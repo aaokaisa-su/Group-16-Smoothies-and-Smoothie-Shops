{
 "cells": [
  {
   "cell_type": "code",
   "execution_count": 2,
   "metadata": {},
   "outputs": [],
   "source": [
    "import math\n",
    "import pandas as pd\n",
    "import matplotlib as mpl\n",
    "import matplotlib.pyplot as plt\n",
    "import tkinter as tk\n",
    "import numpy as np\n",
    "import plotly\n"
   ]
  },
  {
   "cell_type": "code",
   "execution_count": 6,
   "metadata": {},
   "outputs": [
    {
     "name": "stdout",
     "output_type": "stream",
     "text": [
      "Would you like Search or Add a Smoothie?\n",
      "add\n",
      "Please enter your recipe and enter quit when done to print: quit\n",
      "Your smoothie recipes:  [{'recipe': 'quit'}] quit\n"
     ]
    }
   ],
   "source": [
    "\n",
    "#Smoothe List\n",
    "UserSmoothieList = []\n",
    "useradd = ''\n",
    "\n",
    "print(\"Would you like Search or Add a Smoothie?\")\n",
    "user = input().upper()\n",
    "  \n",
    "if user == \"ADD\":\n",
    "  useradd = input(\"Please enter your recipe and enter quit when done to print: \")\n",
    "  MySmoothie ={'recipe':useradd}\n",
    "  UserSmoothieList.append(MySmoothie)\n",
    "  print(\"Your smoothie recipes: \", UserSmoothieList, MySmoothie['recipe'])\n",
    "\n",
    "# Search Button\n",
    "#def closeWindow():\n",
    "# exit()\n",
    "\n",
    "#Search = Master.button(tk, text = \"Close Window\", width=25, command = closeWindow)\n"
   ]
  },
  {
   "cell_type": "code",
   "execution_count": null,
   "metadata": {},
   "outputs": [],
   "source": []
  }
 ],
 "metadata": {
  "kernelspec": {
   "display_name": "Python 3",
   "language": "python",
   "name": "python3"
  },
  "language_info": {
   "codemirror_mode": {
    "name": "ipython",
    "version": 3
   },
   "file_extension": ".py",
   "mimetype": "text/x-python",
   "name": "python",
   "nbconvert_exporter": "python",
   "pygments_lexer": "ipython3",
   "version": "3.6.6"
  }
 },
 "nbformat": 4,
 "nbformat_minor": 2
}
